{
  "nbformat": 4,
  "nbformat_minor": 0,
  "metadata": {
    "colab": {
      "provenance": [],
      "authorship_tag": "ABX9TyOxqD6v02xGScJekRFCATy8",
      "include_colab_link": true
    },
    "kernelspec": {
      "name": "python3",
      "display_name": "Python 3"
    },
    "language_info": {
      "name": "python"
    }
  },
  "cells": [
    {
      "cell_type": "markdown",
      "metadata": {
        "id": "view-in-github",
        "colab_type": "text"
      },
      "source": [
        "<a href=\"https://colab.research.google.com/github/hrqnogueira/exploratory-analysis/blob/main/property_rental_data.ipynb\" target=\"_parent\"><img src=\"https://colab.research.google.com/assets/colab-badge.svg\" alt=\"Open In Colab\"/></a>"
      ]
    },
    {
      "cell_type": "code",
      "execution_count": 1,
      "metadata": {
        "colab": {
          "base_uri": "https://localhost:8080/"
        },
        "id": "vLOpS4P7ZxCs",
        "outputId": "f39c5e5c-d677-4972-9dfb-b3094f3d20f0"
      },
      "outputs": [
        {
          "output_type": "stream",
          "name": "stdout",
          "text": [
            "Looking in indexes: https://pypi.org/simple, https://us-python.pkg.dev/colab-wheels/public/simple/\n",
            "Requirement already satisfied: requests in /usr/local/lib/python3.9/dist-packages (2.27.1)\n",
            "Requirement already satisfied: charset-normalizer~=2.0.0 in /usr/local/lib/python3.9/dist-packages (from requests) (2.0.12)\n",
            "Requirement already satisfied: urllib3<1.27,>=1.21.1 in /usr/local/lib/python3.9/dist-packages (from requests) (1.26.15)\n",
            "Requirement already satisfied: idna<4,>=2.5 in /usr/local/lib/python3.9/dist-packages (from requests) (3.4)\n",
            "Requirement already satisfied: certifi>=2017.4.17 in /usr/local/lib/python3.9/dist-packages (from requests) (2022.12.7)\n"
          ]
        }
      ],
      "source": [
        "!pip install requests"
      ]
    },
    {
      "cell_type": "code",
      "source": [
        "import json\n",
        "import random\n",
        "\n",
        "import requests"
      ],
      "metadata": {
        "id": "MdkYohOHbYa3"
      },
      "execution_count": 83,
      "outputs": []
    },
    {
      "cell_type": "code",
      "source": [
        "BASE_URL = 'https://glue-api.vivareal.com/v2/listings'\n",
        "\n",
        "QUERY_PARAMS = {\n",
        "  'addressCity': 'São Paulo',\n",
        "  'addressLocationId': 'BR>Sao Paulo>NULL>Sao Paulo>Zona Sul>Itaim Bibi',\n",
        "  'addressNeighborhood': 'Itaim Bibi',\n",
        "  'addressState':\t'São Paulo',\n",
        "  'addressCountry':\t'',\n",
        "  'addressStreet': '',\n",
        "  'addressZone': 'Zona Sul',\n",
        "  'addressPointLat': -23.573979,\n",
        "  'addressPointLon': -46.660691,\n",
        "  'business':\t'RENTAL',\n",
        "  'facets':\t'amenities',\n",
        "  'unitTypes': 'APARTMENT,HOME,HOME,APARTMENT,APARTMENT,APARTMENT',\n",
        "  'unitSubTypes': 'UnitSubType_NONE,DUPLEX,LOFT,STUDIO,TRIPLEX|UnitSubType_NONE,SINGLE_STOREY_HOUSE,VILLAGE_HOUSE,KITNET|CONDOMINIUM|FLAT|KITNET|PENTHOUSE',\n",
        "  'unitTypesV3': 'APARTMENT,HOME,CONDOMINIUM,FLAT,KITNET,PENTHOUSE',\n",
        "  'usageTypes':\t'RESIDENTIAL,RESIDENTIAL,RESIDENTIAL,RESIDENTIAL,RESIDENTIAL,RESIDENTIAL',\n",
        "  'listingType': 'USED',\n",
        "  'parentId':\t'null',\n",
        "  'categoryPage':\t'RESULT',\n",
        "  'includeFields': 'search(result(listings(listing(displayAddressType,amenities,usableAreas,constructionStatus,listingType,description,title,unitTypes,nonActivationReason,propertyType,unitSubTypes,id,portal,parkingSpaces,address,suites,publicationType,externalId,bathrooms,usageTypes,totalAreas,advertiserId,bedrooms,pricingInfos,showPrice,status,advertiserContact,videoTourLink,whatsappNumber,stamps),account(id,name,logoUrl,licenseNumber,showAddress,legacyVivarealId,phones,tier),medias,accountLink,link)),totalCount),page,seasonalCampaigns,fullUriFragments,nearby(search(result(listings(listing(displayAddressType,amenities,usableAreas,constructionStatus,listingType,description,title,unitTypes,nonActivationReason,propertyType,unitSubTypes,id,portal,parkingSpaces,address,suites,publicationType,externalId,bathrooms,usageTypes,totalAreas,advertiserId,bedrooms,pricingInfos,showPrice,status,advertiserContact,videoTourLink,whatsappNumber,stamps),account(id,name,logoUrl,licenseNumber,showAddress,legacyVivarealId,phones,tier),medias,accountLink,link)),totalCount)),expansion(search(result(listings(listing(displayAddressType,amenities,usableAreas,constructionStatus,listingType,description,title,unitTypes,nonActivationReason,propertyType,unitSubTypes,id,portal,parkingSpaces,address,suites,publicationType,externalId,bathrooms,usageTypes,totalAreas,advertiserId,bedrooms,pricingInfos,showPrice,status,advertiserContact,videoTourLink,whatsappNumber,stamps),account(id,name,logoUrl,licenseNumber,showAddress,legacyVivarealId,phones,tier),medias,accountLink,link)),totalCount)),account(id,name,logoUrl,licenseNumber,showAddress,legacyVivarealId,phones,tier,phones),developments(search(result(listings(listing(displayAddressType,amenities,usableAreas,constructionStatus,listingType,description,title,unitTypes,nonActivationReason,propertyType,unitSubTypes,id,portal,parkingSpaces,address,suites,publicationType,externalId,bathrooms,usageTypes,totalAreas,advertiserId,bedrooms,pricingInfos,showPrice,status,advertiserContact,videoTourLink,whatsappNumber,stamps),account(id,name,logoUrl,licenseNumber,showAddress,legacyVivarealId,phones,tier),medias,accountLink,link)),totalCount)),owners(search(result(listings(listing(displayAddressType,amenities,usableAreas,constructionStatus,listingType,description,title,unitTypes,nonActivationReason,propertyType,unitSubTypes,id,portal,parkingSpaces,address,suites,publicationType,externalId,bathrooms,usageTypes,totalAreas,advertiserId,bedrooms,pricingInfos,showPrice,status,advertiserContact,videoTourLink,whatsappNumber,stamps),account(id,name,logoUrl,licenseNumber,showAddress,legacyVivarealId,phones,tier),medias,accountLink,link)),totalCount))',\n",
        "  'size':\t100,\n",
        "  'from':\trandom.randint(100, 3000),\n",
        "  'q': '',\n",
        "  'developmentsSize':\t5,\n",
        "  '__vt':\t'',\n",
        "  'levels':\t'NEIGHBORHOOD,UNIT_TYPE',\n",
        "  'ref': '',\n",
        "  'pointRadius': '',\n",
        "  'isPOIQuery':\t'',\n",
        "}\n",
        "\n",
        "HEADERS = {\n",
        "  'user-agent': 'Mozilla/5.0 (Macintosh; Intel Mac OS X 10_15_7) AppleWebKit/537.36 (KHTML, like Gecko) Chrome/111.0.0.0 Safari/537.36',\n",
        "  'x-domain': 'www.vivareal.com.br',\n",
        "}"
      ],
      "metadata": {
        "id": "64nB_0jQagOd"
      },
      "execution_count": 84,
      "outputs": []
    },
    {
      "cell_type": "code",
      "source": [
        "session = requests.Session()\n",
        "response = session.get(BASE_URL, params=QUERY_PARAMS, headers=HEADERS)"
      ],
      "metadata": {
        "id": "YKgTTSIxbaZu"
      },
      "execution_count": 85,
      "outputs": []
    },
    {
      "cell_type": "code",
      "source": [
        "print('response code:', response.status_code)"
      ],
      "metadata": {
        "colab": {
          "base_uri": "https://localhost:8080/"
        },
        "id": "ci7yqnp_bnn9",
        "outputId": "708cc006-c3b8-41c3-b314-a4333eb19935"
      },
      "execution_count": 86,
      "outputs": [
        {
          "output_type": "stream",
          "name": "stdout",
          "text": [
            "response code: 200\n"
          ]
        }
      ]
    },
    {
      "cell_type": "code",
      "source": [
        "json_response = json.loads(response.text)\n",
        "listings = json_response['search']['result']['listings']"
      ],
      "metadata": {
        "id": "aaGc4BT1bsZj"
      },
      "execution_count": 87,
      "outputs": []
    },
    {
      "cell_type": "code",
      "source": [
        "possible_amenities = [\n",
        "    \"BARBECUE_GRILL\",\n",
        "    \"POOL\",\n",
        "    \"SERVICE_AREA\",\n",
        "    \"KITCHEN\",\n",
        "    \"ELEVATOR\",\n",
        "    \"PARTY_HALL\",\n",
        "    \"PLAYGROUND\",\n",
        "    \"INTERCOM\",\n",
        "    \"GATED_COMMUNITY\",\n",
        "    \"GYM\",\n",
        "    \"BALCONY\",\n",
        "    \"PETS_ALLOWED\",\n",
        "    \"AIR_CONDITIONING\",\n",
        "    \"SPORTS_COURT\",\n",
        "    \"GARDEN\",\n",
        "    \"GARAGE\",\n",
        "    \"GOURMET_SPACE\",\n",
        "    \"LAUNDRY\",\n",
        "    \"GOURMET_BALCONY\",\n",
        "    \"BACKYARD\",\n",
        "    \"SAUNA\",\n",
        "    \"ELECTRONIC_GATE\",\n",
        "    \"CONCIERGE_24H\",\n",
        "    \"SECURITY_24_HOURS\",\n",
        "    \"FURNISHED\",\n",
        "    \"ADULT_GAME_ROOM\",\n",
        "    \"CABLE_TV\",\n",
        "    \"HOME_OFFICE\",\n",
        "    \"SAFETY_CIRCUIT\",\n",
        "    \"DISABLED_ACCESS\",\n",
        "    \"DINNER_ROOM\",\n",
        "    \"NEAR_PUBLIC_TRANSPORT\",\n",
        "    \"NEAR_ACCESS_ROADS\",\n",
        "    \"GAMES_ROOM\",\n",
        "    \"ALARM_SYSTEM\",\n",
        "    \"NEAR_SCHOOL\",\n",
        "    \"BUILTIN_WARDROBE\",\n",
        "    \"INTERNET_ACCESS\",\n",
        "    \"KITCHEN_CABINETS\",\n",
        "    \"CLOSET\",\n",
        "    \"BICYCLES_PLACE\",\n",
        "    \"ADULT_POOL\",\n",
        "    \"WATCHMAN\",\n",
        "    \"NEAR_HOSPITAL\",\n",
        "    \"AMERICAN_KITCHEN\",\n",
        "    \"FIREPLACE\",\n",
        "    \"MASSAGE_ROOM\",\n",
        "    \"DEPOSIT\",\n",
        "    \"TENNIS_COURT\",\n",
        "    \"SPA\",\n",
        "    \"RECREATION_AREA\",\n",
        "    \"RECEPTION\",\n",
        "    \"CHILDRENS_POOL\",\n",
        "    \"NEAR_SHOPPING_CENTER\",\n",
        "    \"GREEN_SPACE\",\n",
        "    \"ELECTRIC_GENERATOR\",\n",
        "    \"HEATING\",\n",
        "    \"COPA\",\n",
        "    \"LUNCH_ROOM\",\n",
        "    \"SECURITY_CAMERA\",\n",
        "    \"INTEGRATED_ENVIRONMENTS\",\n",
        "    \"COWORKING\",\n",
        "    \"ESSENTIAL_PUBLIC_SERVICES\",\n",
        "    \"NUMBER_OF_FLOORS\",\n",
        "    \"BEDROOM_WARDROBE\",\n",
        "    \"SEA_VIEW\",\n",
        "    \"BLINDEX_BOX\",\n",
        "    \"CINEMA\",\n",
        "    \"BATHROOM_CABINETS\",\n",
        "    \"NEAR_SHOPPING_CENTER_2\",\n",
        "    \"GRASS\",\n",
        "    \"BARBECUE_BALCONY\",\n",
        "    \"PARKING\",\n",
        "    \"TOYS_PLACE\",\n",
        "    \"NATURAL_VENTILATION\",\n",
        "    \"ENTRANCE_HALL\",\n",
        "    \"LARGE_ROOM\",\n",
        "]\n",
        "\n",
        "def get_monthly_rental_price(pricing_infos):\n",
        "  for pricing_info in pricing_infos:\n",
        "    if 'rentalInfo' in pricing_info:\n",
        "      return pricing_info['price']\n",
        "\n",
        "def get_yearly_iptu(pricing_infos):\n",
        "  for pricing_info in pricing_infos:\n",
        "    if 'yearlyIptu' in pricing_info:\n",
        "      return pricing_info['yearlyIptu']\n",
        "\n",
        "def get_monthly_condo_fee(pricing_infos):\n",
        "  for pricing_info in pricing_infos:\n",
        "    if 'monthlyCondoFee' in pricing_info:\n",
        "      return pricing_info['monthlyCondoFee']\n",
        "\n",
        "\n",
        "def process_pois(pois_list):\n",
        "  freq = {}\n",
        "  for poi in pois_list:\n",
        "    type_, _ = poi.split(':')\n",
        "    if type_ not in freq:\n",
        "      freq[type_] = 0\n",
        "    freq[type_] += 1\n",
        "  return freq\n",
        "\n",
        "def process_amenities(amenities):\n",
        "  freq = {}\n",
        "  for amenity in amenities:\n",
        "    if amenity not in freq:\n",
        "      freq[amenity] = [0, False]\n",
        "    freq[amenity][0] += 1\n",
        "    freq[amenity][1] = amenity in possible_amenities\n",
        "  return freq\n",
        "\n",
        "random_listing = listings[random.randint(0, 99)]\n",
        "\n",
        "listing = random_listing['listing']\n",
        "amenities = listing['amenities']\n",
        "usable_area = listing['usableAreas']  # list\n",
        "listing_type = listing['listingType']\n",
        "description = listing['description']\n",
        "unit_type = listing['unitTypes']  # list\n",
        "property_type = listing['propertyType']\n",
        "property_sub_type = listing['unitSubTypes'] # list\n",
        "id_ = listing['id']\n",
        "parking_spaces = listing['parkingSpaces']  # list\n",
        "address_country = listing['address']['country']\n",
        "address_zipcode = listing['address']['zipCode']\n",
        "address_city = listing['address']['city']\n",
        "address_level = listing['address']['level']\n",
        "address_state = listing['address']['state']\n",
        "address_neighborhood = listing['address']['neighborhood']\n",
        "address_state_code = listing['address']['stateAcronym']\n",
        "address_zone = listing['address']['zone']\n",
        "address_street = listing['address']['street'] if 'street' in listing['address'] else None,\n",
        "address_location_id = listing['address']['locationId']\n",
        "address_pois = listing['address']['poisList']  # list\n",
        "suites = listing['suites']  # list\n",
        "bathrooms = listing['bathrooms']  # list\n",
        "total_area = listing['totalAreas']  # list\n",
        "bedrooms = listing['bedrooms']\n",
        "rent_price = get_monthly_rental_price(listing['pricingInfos'])\n",
        "yearly_iptu = get_yearly_iptu(listing['pricingInfos'])\n",
        "monthly_condo_fee = get_monthly_condo_fee(listing['pricingInfos'])\n",
        "\n",
        "\n",
        "\n",
        "record = {\n",
        "    'id_': id_,\n",
        "\n",
        "    'unit_type': unit_type[0],\n",
        "\n",
        "    'usable_area': int(usable_area[0]) if len(usable_area) > 0 else 0,\n",
        "    'total_area': int(total_area[0]) if len(total_area) > 0 else 0,\n",
        "    'suites': int(suites[0]) if len(suites) > 0 else 0,\n",
        "    'bathrooms': int(bathrooms[0]) if len(bathrooms) > 0 else 0,\n",
        "    'parking_spaces': int(parking_spaces[0]) if len(parking_spaces) > 0 else 0,\n",
        "    \n",
        "    'amenities': process_amenities(amenities),\n",
        "    'address_pois': process_pois(address_pois),\n",
        "    \n",
        "    'address_street': address_street[0] if len(address_street) > 0 else None,\n",
        "    'address_neighborhood': address_neighborhood,\n",
        "    'address_zipcode': address_zipcode,\n",
        "    'address_city': address_city,\n",
        "    'address_level': address_level,\n",
        "    'address_country': address_country,\n",
        "    'address_state': address_state,\n",
        "    'address_state_code': address_state_code,\n",
        "    'address_zone': address_zone,\n",
        "    \n",
        "    'rent_price': float(rent_price) if rent_price is not None else 0.,\n",
        "    'yearly_iptu': float(yearly_iptu) if yearly_iptu is not None else 0.,\n",
        "    'monthly_condo_fee': float(monthly_condo_fee) if monthly_condo_fee is not None else 0.,\n",
        "}\n",
        "\n",
        "print(json.dumps(record, indent=2, ensure_ascii=False))"
      ],
      "metadata": {
        "colab": {
          "base_uri": "https://localhost:8080/"
        },
        "id": "v0yP0zzrbzUV",
        "outputId": "5ee0db47-1f19-4e9b-bb8d-1028de9edb6d"
      },
      "execution_count": 94,
      "outputs": [
        {
          "output_type": "stream",
          "name": "stdout",
          "text": [
            "{\n",
            "  \"id_\": \"2529976239\",\n",
            "  \"unit_type\": \"FLAT\",\n",
            "  \"usable_area\": 86,\n",
            "  \"total_area\": 86,\n",
            "  \"suites\": 1,\n",
            "  \"bathrooms\": 1,\n",
            "  \"parking_spaces\": 1,\n",
            "  \"amenities\": {\n",
            "    \"POOL\": [\n",
            "      1,\n",
            "      true\n",
            "    ],\n",
            "    \"FURNISHED\": [\n",
            "      1,\n",
            "      true\n",
            "    ],\n",
            "    \"BARBECUE_GRILL\": [\n",
            "      1,\n",
            "      true\n",
            "    ],\n",
            "    \"BALCONY\": [\n",
            "      1,\n",
            "      true\n",
            "    ],\n",
            "    \"GOURMET_SPACE\": [\n",
            "      1,\n",
            "      true\n",
            "    ],\n",
            "    \"GARAGE\": [\n",
            "      1,\n",
            "      true\n",
            "    ],\n",
            "    \"AIR_CONDITIONING\": [\n",
            "      1,\n",
            "      true\n",
            "    ],\n",
            "    \"CHILDRENS_POOL\": [\n",
            "      1,\n",
            "      true\n",
            "    ],\n",
            "    \"PARTY_HALL\": [\n",
            "      1,\n",
            "      true\n",
            "    ],\n",
            "    \"KITCHEN\": [\n",
            "      1,\n",
            "      true\n",
            "    ]\n",
            "  },\n",
            "  \"address_pois\": {\n",
            "    \"BS\": 5,\n",
            "    \"TS\": 5,\n",
            "    \"CS\": 5,\n",
            "    \"PH\": 2\n",
            "  },\n",
            "  \"address_street\": \"Avenida Presidente Juscelino Kubitschek\",\n",
            "  \"address_neighborhood\": \"Vila Nova Conceição\",\n",
            "  \"address_zipcode\": \"04543011\",\n",
            "  \"address_city\": \"São Paulo\",\n",
            "  \"address_level\": \"STREET\",\n",
            "  \"address_country\": \"BR\",\n",
            "  \"address_state\": \"São Paulo\",\n",
            "  \"address_state_code\": \"SP\",\n",
            "  \"address_zone\": \"Zona Oeste\",\n",
            "  \"rent_price\": 12500.0,\n",
            "  \"yearly_iptu\": 0.0,\n",
            "  \"monthly_condo_fee\": 0.0\n",
            "}\n"
          ]
        }
      ]
    },
    {
      "cell_type": "code",
      "source": [],
      "metadata": {
        "id": "tXl4x6xniykw"
      },
      "execution_count": 82,
      "outputs": []
    },
    {
      "cell_type": "code",
      "source": [],
      "metadata": {
        "id": "v08Ar6YY8QZy"
      },
      "execution_count": null,
      "outputs": []
    }
  ]
}